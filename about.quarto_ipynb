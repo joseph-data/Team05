{
  "cells": [
    {
      "cell_type": "markdown",
      "metadata": {},
      "source": [
        "---\n",
        "format:\n",
        "  dashboard:\n",
        "    nav-buttons:\n",
        "      - icon: github\n",
        "        href: https://github.com/\n",
        "    theme: lux\n",
        "---\n",
        "\n",
        "\n",
        "\n",
        "\n",
        "## Column {width=\"60%\"}\n"
      ],
      "id": "a952efbd"
    },
    {
      "cell_type": "markdown",
      "metadata": {},
      "source": [
        "## Column {width=\"40%\"}\n"
      ],
      "id": "868df397"
    }
  ],
  "metadata": {
    "kernelspec": {
      "display_name": "Python 3",
      "language": "python",
      "name": "python3"
    }
  },
  "nbformat": 4,
  "nbformat_minor": 5
}