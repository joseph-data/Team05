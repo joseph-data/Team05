{
  "cells": [
    {
      "cell_type": "markdown",
      "metadata": {},
      "source": [
        "---\n",
        "title: \"Wild Fires\"\n",
        "author: \"Team 05\"\n",
        "format: dashboard\n",
        "---\n",
        "\n",
        "\n",
        "\n",
        "\n",
        "## Row {height=50%}\n",
        "\n",
        "### Column {.tabset}\n"
      ],
      "id": "ec5cfe01"
    },
    {
      "cell_type": "markdown",
      "metadata": {},
      "source": [
        "### Column {.tabset}\n"
      ],
      "id": "e4774dae"
    },
    {
      "cell_type": "markdown",
      "metadata": {},
      "source": [
        "## Row {height=50%}\n",
        "\n",
        "### Column {.tabset}\n"
      ],
      "id": "a904fab3"
    },
    {
      "cell_type": "markdown",
      "metadata": {},
      "source": [
        "### Column {.tabset}\n"
      ],
      "id": "536ed2d2"
    }
  ],
  "metadata": {
    "kernelspec": {
      "display_name": "Python 3",
      "language": "python",
      "name": "python3"
    }
  },
  "nbformat": 4,
  "nbformat_minor": 5
}