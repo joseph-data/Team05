{
  "cells": [
    {
      "cell_type": "markdown",
      "metadata": {},
      "source": [
        "---\n",
        "title: \"Chlorophyll & Deforestation Dashboard\"\n",
        "author: \"CDSE\"\n",
        "format: dashboard\n",
        "---"
      ],
      "id": "6252f72c"
    },
    {
      "cell_type": "code",
      "metadata": {},
      "source": [
        "with open(\"./Scripts/library_Authorization.py\", encoding=\"utf-8\") as f:\n",
        "    exec(f.read())"
      ],
      "id": "4c00532c",
      "execution_count": null,
      "outputs": []
    },
    {
      "cell_type": "code",
      "metadata": {},
      "source": [
        "# Function to fetch Sentinel-2 image\n",
        "def fetch_satellite_image(access_token):\n",
        "    \"\"\"Fetch Sentinel-2 image from Copernicus API.\"\"\"\n",
        "    url = \"https://sh.dataspace.copernicus.eu/api/v1/process\"\n",
        "    headers = {\n",
        "        \"Content-Type\": \"application/json\",\n",
        "        \"Authorization\": f\"Bearer {access_token}\",\n",
        "    }\n",
        "    \n",
        "    data = {\n",
        "        \"input\": {\n",
        "            \"bounds\": {\n",
        "                \"bbox\": [17.60505, 59.199845, 18.442687, 59.592756]\n",
        "            },\n",
        "            \"data\": [\n",
        "                {\n",
        "                    \"dataFilter\": {\n",
        "                        \"timeRange\": {\n",
        "                            \"from\": \"2025-01-07T00:00:00Z\",\n",
        "                            \"to\": \"2025-03-07T23:59:59Z\"\n",
        "                        }\n",
        "                    },\n",
        "                    \"type\": \"sentinel-2-l2a\"\n",
        "                }\n",
        "            ]\n",
        "        },\n",
        "        \"output\": {\n",
        "            \"width\": 512,\n",
        "            \"height\": 469,\n",
        "            \"responses\": [{\n",
        "                \"identifier\": \"default\",\n",
        "                \"format\": {\"type\": \"image/jpeg\"}\n",
        "            }]\n",
        "        },\n",
        "        \"evalscript\": \"\"\"//VERSION=3\n",
        "        function setup() {\n",
        "            return {\n",
        "                input: [\"B04\", \"B08\", \"SCL\", \"dataMask\"],\n",
        "                output: [{ id: \"default\", bands: 4 }]\n",
        "            };\n",
        "        }\n",
        "        function evaluatePixel(samples) {\n",
        "            let val = index(samples.B08, samples.B04);\n",
        "            return { default: [val, val, val, samples.dataMask] };\n",
        "        }\"\"\"\n",
        "    }\n",
        "    \n",
        "    response = requests.post(url, headers=headers, json=data)\n",
        "    if response.status_code == 200:\n",
        "        return Image.open(io.BytesIO(response.content))\n",
        "    else:\n",
        "        print(f\"❌ API request failed! Status Code: {response.status_code}\")\n",
        "        print(response.text)\n",
        "        return None"
      ],
      "id": "86e56867",
      "execution_count": null,
      "outputs": []
    },
    {
      "cell_type": "markdown",
      "metadata": {},
      "source": [
        "## Row {height=\"40%\"}\n"
      ],
      "id": "c3250ffc"
    },
    {
      "cell_type": "code",
      "metadata": {
        "title": "Display Image"
      },
      "source": [
        "# Function to display the image\n",
        "def display_image(image):\n",
        "    \"\"\"Display the retrieved satellite image using Plotly.\"\"\"\n",
        "    if image:\n",
        "        img_array = np.array(image)\n",
        "        fig = px.imshow(img_array)\n",
        "        fig.update_layout(coloraxis_showscale=True, margin=dict(l=0, r=0, t=0, b=0))\n",
        "        fig.show()\n",
        "    else:\n",
        "        print(\"❌ No image to display.\")"
      ],
      "id": "9b639506",
      "execution_count": null,
      "outputs": []
    },
    {
      "cell_type": "code",
      "metadata": {},
      "source": [
        "# Main execution\n",
        "access_token = get_access_token()\n",
        "if access_token:\n",
        "    image = fetch_satellite_image(access_token)\n",
        "    display_image(image)"
      ],
      "id": "c493e9ad",
      "execution_count": null,
      "outputs": []
    }
  ],
  "metadata": {
    "kernelspec": {
      "display_name": "Python 3",
      "language": "python",
      "name": "python3"
    }
  },
  "nbformat": 4,
  "nbformat_minor": 5
}