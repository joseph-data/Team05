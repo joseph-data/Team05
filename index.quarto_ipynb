{
  "cells": [
    {
      "cell_type": "markdown",
      "metadata": {},
      "source": [
        "ew---\n",
        "title: \"Wild Fires\"\n",
        "author: \"Team 05\"\n",
        "format: dashboard\n",
        "\n",
        "---\n",
        "\n",
        "## Row {height=50%}\n",
        "\n",
        "### Column {.tabset}\n"
      ],
      "id": "a5307dfe"
    },
    {
      "cell_type": "markdown",
      "metadata": {},
      "source": [
        "### Column {.tabset}\n"
      ],
      "id": "5edb3c8d"
    },
    {
      "cell_type": "markdown",
      "metadata": {},
      "source": [
        "## Row {height=50%}\n",
        "\n",
        "### Column {.tabset}\n"
      ],
      "id": "f7985c21"
    },
    {
      "cell_type": "markdown",
      "metadata": {},
      "source": [
        "### Column {.tabset}\n"
      ],
      "id": "b7e02fd2"
    }
  ],
  "metadata": {
    "kernelspec": {
      "display_name": "Python 3",
      "language": "python",
      "name": "python3"
    }
  },
  "nbformat": 4,
  "nbformat_minor": 5
}